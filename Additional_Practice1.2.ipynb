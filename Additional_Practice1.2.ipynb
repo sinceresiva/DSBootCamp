{
 "cells": [
  {
   "cell_type": "markdown",
   "metadata": {
    "collapsed": true
   },
   "source": [
    "## Please replace the astricks with the required logic in the following exercises"
   ]
  },
  {
   "cell_type": "markdown",
   "metadata": {},
   "source": [
    "### 1) Write a python program to print from 1 to 6 except 3 and 6\n",
    "\n",
    "       Expected Output:\n",
    "\n",
    "       1  2  4  5 "
   ]
  },
  {
   "cell_type": "code",
   "execution_count": 16,
   "metadata": {},
   "outputs": [
    {
     "name": "stdout",
     "output_type": "stream",
     "text": [
      "1 2 4 5 "
     ]
    }
   ],
   "source": [
    "\n",
    "# Iterate over range from 1 to 6 using for loop\n",
    "for x in range(***):\n",
    "\n",
    "#check if x is 3 or 6\n",
    "    if(***):\n",
    "        continue\n",
    "#else print all using whitespace between elements    \n",
    "    print(x, end = \" \")    \n",
    "\n",
    "\n",
    "    \n"
   ]
  },
  {
   "cell_type": "markdown",
   "metadata": {},
   "source": [
    "### 2) Write a Python program to construct the following pattern, using a nested for loop.\n",
    "\n",
    "        *\n",
    "        * *\n",
    "        * * *\n",
    "        * * * *\n",
    "        * * * * *\n",
    "        * * * *\n",
    "        * * *\n",
    "        * *\n",
    "        *"
   ]
  },
  {
   "cell_type": "code",
   "execution_count": 11,
   "metadata": {},
   "outputs": [
    {
     "name": "stdout",
     "output_type": "stream",
     "text": [
      "\n",
      "*\n",
      "**\n",
      "***\n",
      "****\n",
      "*****\n",
      "****\n",
      "***\n",
      "**\n",
      "*\n"
     ]
    }
   ],
   "source": [
    "# Initialize n to the maximum number of stars\n",
    "n=5\n",
    "\n",
    "# Iterate over range(n) \n",
    "for i in range(*):\n",
    "\n",
    "#Iterate over range(i)\n",
    "    for j in range(*):\n",
    "\n",
    "#print * , use end to get  no white spaces in between the stars\n",
    "        print ('*', end=\"\")\n",
    "    print('')\n",
    "\n",
    "\n",
    "# Iterate over range(n)  to 0 hence reduce by -1\n",
    "for i in range(n,0,-1):\n",
    "\n",
    "#Iterate over range(i)\n",
    "    for j in range(*):\n",
    "\n",
    "#print * , use end to get  no white spaces in between the stars\n",
    "        print(***)\n",
    "    \n",
    "    print('')\n"
   ]
  },
  {
   "cell_type": "markdown",
   "metadata": {},
   "source": [
    "### 3) Write a python program to print the sum of the first 10 numbers (1 to 10) using while loop\n",
    "\n",
    "        Expected Output: \n",
    "        The sum of the first 10 integers:  55"
   ]
  },
  {
   "cell_type": "code",
   "execution_count": 12,
   "metadata": {},
   "outputs": [
    {
     "name": "stdout",
     "output_type": "stream",
     "text": [
      "The sum of first 10 integers :  55\n"
     ]
    }
   ],
   "source": [
    "# Initialize x to 1\n",
    "***\n",
    "\n",
    "# Initialize s to 0\n",
    "***\n",
    "\n",
    "\n",
    "# Iterate over x till 10\n",
    "while (***):\n",
    "\n",
    "# Add each x to s\n",
    "     ***\n",
    "\n",
    "# Increment x by 1\n",
    "     ***\n",
    "\n",
    "#when x>10, print s\n",
    "print(\"The sum of the first 10 integers: \",s)\n",
    "\n"
   ]
  },
  {
   "cell_type": "markdown",
   "metadata": {},
   "source": [
    "### 4) We use break statement to terminate the while loop without completing all the iterations. The program control goes outside the while and the next print statement is executed. Q. Repeat the while using “break” and print the sum of the first 10 integers\n",
    "\n",
    "        Expected Output:\n",
    "        The sum of the first 10 integers is: 55"
   ]
  },
  {
   "cell_type": "code",
   "execution_count": 18,
   "metadata": {},
   "outputs": [
    {
     "name": "stdout",
     "output_type": "stream",
     "text": [
      "The sum of first 10 numbers is : 55\n"
     ]
    }
   ],
   "source": [
    "# Initialize x to 1\n",
    "***\n",
    "\n",
    "# Initialize s to 0\n",
    "***\n",
    "\n",
    "# Infinite loop using while\n",
    "while (True):\n",
    "    \n",
    "#check for x =11\n",
    "     if (***):\n",
    "          break    \n",
    "\n",
    "# Add each x to s\n",
    "     ***\n",
    "\n",
    "#Increment x by 1\n",
    "     ***\n",
    "\n",
    "#print sum s\n",
    "print('The sum of first 10 numbers is:', s) \n"
   ]
  },
  {
   "cell_type": "markdown",
   "metadata": {},
   "source": [
    "### 5) Print the whether the number is positive or negative"
   ]
  },
  {
   "cell_type": "code",
   "execution_count": 14,
   "metadata": {},
   "outputs": [
    {
     "name": "stdout",
     "output_type": "stream",
     "text": [
      "negative number\n"
     ]
    }
   ],
   "source": [
    "#initialize any negative number or positive number\n",
    "num = *\n",
    "\n",
    "#check if num>0\n",
    "if (***):\n",
    "\n",
    "#print the number is positive\n",
    "    print(\"positive number\")\n",
    "\n",
    "#use elif to check number is zero\n",
    "elif (***):\n",
    "    print(\"Zero\")\n",
    "\n",
    "#else print the number is negative\n",
    "else:\n",
    "    print(\"negative number\")\n"
   ]
  },
  {
   "cell_type": "code",
   "execution_count": null,
   "metadata": {
    "collapsed": true
   },
   "outputs": [],
   "source": []
  }
 ],
 "metadata": {
  "kernelspec": {
   "display_name": "Python 3",
   "language": "python",
   "name": "python3"
  },
  "language_info": {
   "codemirror_mode": {
    "name": "ipython",
    "version": 3
   },
   "file_extension": ".py",
   "mimetype": "text/x-python",
   "name": "python",
   "nbconvert_exporter": "python",
   "pygments_lexer": "ipython3",
   "version": "3.6.4"
  }
 },
 "nbformat": 4,
 "nbformat_minor": 2
}
