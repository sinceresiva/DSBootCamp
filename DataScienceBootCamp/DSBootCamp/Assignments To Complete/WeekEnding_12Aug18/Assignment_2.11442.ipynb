{
 "cells": [
  {
   "cell_type": "code",
   "execution_count": 5,
   "metadata": {},
   "outputs": [],
   "source": [
    "##Write a program which accepts a sequence of comma-separated numbers from console and generate a list."
   ]
  },
  {
   "cell_type": "code",
   "execution_count": 4,
   "metadata": {},
   "outputs": [
    {
     "name": "stdout",
     "output_type": "stream",
     "text": [
      "Enter a comma separated list of numbers: 1,2,3,4\n",
      "['1', '2', '3', '4']\n"
     ]
    }
   ],
   "source": [
    "inputString=input(\"Enter a comma separated list of numbers: \")\n",
    "resultList=list(inputString.split(','))\n",
    "print(resultList)"
   ]
  },
  {
   "cell_type": "code",
   "execution_count": 5,
   "metadata": {},
   "outputs": [
    {
     "data": {
      "text/plain": [
       "'\\n*\\n**\\n***\\n****\\n*****\\n****\\n***\\n**\\n*\\n'"
      ]
     },
     "execution_count": 5,
     "metadata": {},
     "output_type": "execute_result"
    }
   ],
   "source": [
    "##Create the below pattern using nested for loop in Python.\n",
    "'''\n",
    "*\n",
    "**\n",
    "***\n",
    "****\n",
    "*****\n",
    "****\n",
    "***\n",
    "**\n",
    "*\n",
    "'''"
   ]
  },
  {
   "cell_type": "code",
   "execution_count": 6,
   "metadata": {},
   "outputs": [
    {
     "name": "stdout",
     "output_type": "stream",
     "text": [
      "\n",
      "*\n",
      "**\n",
      "***\n",
      "****\n",
      "*****\n",
      "****\n",
      "***\n",
      "**\n",
      "*\n"
     ]
    }
   ],
   "source": [
    "# Initialize n to the maximum number of stars\n",
    "n=5\n",
    "# Iterate over range(n)\n",
    "for i in range(n):\n",
    "    #Iterate over range(i)\n",
    "    for j in range(i):\n",
    "        #print * , use end to get no white spaces in between the stars\n",
    "        print ('*', end=\"\")\n",
    "    print('')\n",
    "# Iterate over range(n) to 0 hence reduce by -1\n",
    "for i in range(n,0,-1):\n",
    "    #Iterate over range(i)\n",
    "    for j in range(i):\n",
    "        #print * , use end to get no white spaces in between the stars\n",
    "        print('*', end=\"\")\n",
    "    print('')"
   ]
  },
  {
   "cell_type": "code",
   "execution_count": 7,
   "metadata": {},
   "outputs": [],
   "source": [
    "##Write a Python program to reverse a word after accepting the input from the user."
   ]
  },
  {
   "cell_type": "code",
   "execution_count": 9,
   "metadata": {},
   "outputs": [
    {
     "name": "stdout",
     "output_type": "stream",
     "text": [
      "Enter a word:AcadGild\n",
      "dliGdacA\n"
     ]
    }
   ],
   "source": [
    "someWord=input(\"Enter a word:\")\n",
    "print(someWord[::-1])"
   ]
  },
  {
   "cell_type": "code",
   "execution_count": 10,
   "metadata": {},
   "outputs": [],
   "source": [
    "##Write a Python Program to print the given string in the format specified in the sample output.\n",
    "##WE, THE PEOPLE OF INDIA, having solemnly resolved to constitute India into a SOVEREIGN, SOCIALIST, SECULAR, \n",
    "##DEMOCRATIC REPUBLIC and to secure to all its citizens"
   ]
  },
  {
   "cell_type": "code",
   "execution_count": 11,
   "metadata": {},
   "outputs": [
    {
     "data": {
      "text/plain": [
       "'\\nWE, THE PEOPLE OF INDIA,\\nhaving solemnly resolved to constitute India into a SOVEREIGN, !\\nSOCIALIST, SECULAR, DEMOCRATIC REPUBLIC\\nand to secure to all its citizens\\n'"
      ]
     },
     "execution_count": 11,
     "metadata": {},
     "output_type": "execute_result"
    }
   ],
   "source": [
    "'''\n",
    "WE, THE PEOPLE OF INDIA,\n",
    "having solemnly resolved to constitute India into a SOVEREIGN, !\n",
    "SOCIALIST, SECULAR, DEMOCRATIC REPUBLIC\n",
    "and to secure to all its citizens\n",
    "'''"
   ]
  },
  {
   "cell_type": "code",
   "execution_count": 38,
   "metadata": {},
   "outputs": [
    {
     "name": "stdout",
     "output_type": "stream",
     "text": [
      "WE, THE PEOPLE OF INDIA, \n",
      "\thaving solemnly resolved to constitute India into a SOVEREIGN,!\n",
      "\t\tSOCIALIST, SECULAR, DEMOCRATIC REPUBLIC \n",
      "\t\t\tand to secure to all its citizens\n"
     ]
    }
   ],
   "source": [
    "inputString=\"WE, THE PEOPLE OF INDIA, having solemnly resolved to constitute India into a SOVEREIGN,SOCIALIST, SECULAR, DEMOCRATIC REPUBLIC and to secure to all its citizens\"\n",
    "firstSegment = inputString[0:inputString.index(\"having\")]\n",
    "secondSegment = inputString[inputString.index(\"having\"):inputString.index(\"SOCIALIST\")] + \"!\"\n",
    "thirdSegment = inputString[inputString.index(\"SOCIALIST\"):inputString.index(\"and\")]\n",
    "fourthSegment = inputString[inputString.index(\"and\"):len(inputString)]\n",
    "print(\"{}\\n\\t{}\\n\\t\\t{}\\n\\t\\t\\t{}\".format(firstSegment, secondSegment, thirdSegment, fourthSegment))"
   ]
  },
  {
   "cell_type": "code",
   "execution_count": 39,
   "metadata": {},
   "outputs": [],
   "source": [
    "##Write a Python Program to implement your own myreduce() function which works exactly like Python's built-in function reduce()"
   ]
  },
  {
   "cell_type": "code",
   "execution_count": 45,
   "metadata": {},
   "outputs": [
    {
     "name": "stdout",
     "output_type": "stream",
     "text": [
      "120\n"
     ]
    }
   ],
   "source": [
    "def myReduce(fn,lst):\n",
    "    result=None\n",
    "    firstAttempt=True\n",
    "    while(len(lst) > 0):\n",
    "        if firstAttempt:\n",
    "            poppedItem1=lst.pop()\n",
    "            poppedItem2=None\n",
    "            if len(lst)>0:\n",
    "                poppedItem2 = lst.pop()\n",
    "            result=doReduce(fn, poppedItem1,poppedItem2)\n",
    "            firstAttempt = False\n",
    "        else:\n",
    "            poppedItem1 = lst.pop()\n",
    "            result=doReduce(fn, poppedItem1,result)\n",
    "    return result\n",
    "\n",
    "def doReduce(fn,item1, item2):\n",
    "    return fn(item1,item2)\n",
    "\n",
    "res=myReduce(lambda x,y:x*y, [1,2,3,4,5])\n",
    "print(res)"
   ]
  },
  {
   "cell_type": "code",
   "execution_count": 43,
   "metadata": {},
   "outputs": [],
   "source": [
    "##Write a Python program to implement your own myfilter() function which works exactly like Python's built-in function filter()"
   ]
  },
  {
   "cell_type": "code",
   "execution_count": 46,
   "metadata": {},
   "outputs": [
    {
     "name": "stdout",
     "output_type": "stream",
     "text": [
      "[6, 9]\n"
     ]
    }
   ],
   "source": [
    "def myFilter(fn,lst):\n",
    "    result=[]\n",
    "    while(len(lst) > 0):\n",
    "        poppedItem=lst.pop()\n",
    "        result=doReduce(fn, result, poppedItem)       \n",
    "    return result[::-1]\n",
    "\n",
    "def doReduce(fn,result, item1):\n",
    "    if fn(item1):\n",
    "        result+=[item1]\n",
    "    return result\n",
    "\n",
    "res=myFilter(lambda x: (x%3==0 and x!=3), [1,2,3,4,5,6,8,9])\n",
    "print(res)"
   ]
  },
  {
   "cell_type": "code",
   "execution_count": 49,
   "metadata": {},
   "outputs": [],
   "source": [
    "##Implement List comprehensions to produce the following lists."
   ]
  },
  {
   "cell_type": "code",
   "execution_count": null,
   "metadata": {},
   "outputs": [],
   "source": []
  },
  {
   "cell_type": "code",
   "execution_count": 47,
   "metadata": {},
   "outputs": [],
   "source": [
    "##Implement a function longestWord() that takes a list of words and returns the longest one."
   ]
  },
  {
   "cell_type": "code",
   "execution_count": 48,
   "metadata": {},
   "outputs": [
    {
     "name": "stdout",
     "output_type": "stream",
     "text": [
      "MerryGo\n"
     ]
    }
   ],
   "source": [
    "import functools\n",
    "def longestWord(wordList):\n",
    "    return functools.reduce(lambda a,b: getLongestWord(a,b), wordList)\n",
    "\n",
    "def getLongestWord(word1, word2):\n",
    "    if(len(word1) > len(word2)):\n",
    "        return word1\n",
    "    else:\n",
    "        return word2\n",
    "\n",
    "longest = longestWord([\"A\", \"Happy\",\"MerryGo\",\"Rabbit\"])\n",
    "print(longest)"
   ]
  },
  {
   "cell_type": "code",
   "execution_count": null,
   "metadata": {},
   "outputs": [],
   "source": []
  }
 ],
 "metadata": {
  "kernelspec": {
   "display_name": "Python 3",
   "language": "python",
   "name": "python3"
  },
  "language_info": {
   "codemirror_mode": {
    "name": "ipython",
    "version": 3
   },
   "file_extension": ".py",
   "mimetype": "text/x-python",
   "name": "python",
   "nbconvert_exporter": "python",
   "pygments_lexer": "ipython3",
   "version": "3.6.5"
  }
 },
 "nbformat": 4,
 "nbformat_minor": 2
}
