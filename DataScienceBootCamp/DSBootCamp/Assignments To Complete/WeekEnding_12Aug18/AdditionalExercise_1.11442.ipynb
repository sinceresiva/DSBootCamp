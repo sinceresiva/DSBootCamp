{
 "cells": [
  {
   "cell_type": "code",
   "execution_count": 5,
   "metadata": {},
   "outputs": [],
   "source": [
    "##Write a python program to print from 1 to 6 except 3 and 6"
   ]
  },
  {
   "cell_type": "code",
   "execution_count": 2,
   "metadata": {},
   "outputs": [
    {
     "name": "stdout",
     "output_type": "stream",
     "text": [
      "1 2 4 5 "
     ]
    }
   ],
   "source": [
    "# Iterate over range from 1 to 6 using for loop\n",
    "for x in range(1, 7):\n",
    "    #check if x is 3 or 6\n",
    "    if(x == 3 or x == 6):\n",
    "        continue\n",
    "    #else print all using whitespace between elements\n",
    "    print(x, end = \" \")"
   ]
  },
  {
   "cell_type": "code",
   "execution_count": 4,
   "metadata": {},
   "outputs": [
    {
     "data": {
      "text/plain": [
       "'\\n*\\n* *\\n* * *\\n* * * *\\n* * * * *\\n* * * *\\n* * *\\n* *\\n*\\n'"
      ]
     },
     "execution_count": 4,
     "metadata": {},
     "output_type": "execute_result"
    }
   ],
   "source": [
    "##Write a Python program to construct the following pattern, using a nested for loop.\n",
    "'''\n",
    "*\n",
    "* *\n",
    "* * *\n",
    "* * * *\n",
    "* * * * *\n",
    "* * * *\n",
    "* * *\n",
    "* *\n",
    "*\n",
    "'''"
   ]
  },
  {
   "cell_type": "code",
   "execution_count": 16,
   "metadata": {},
   "outputs": [
    {
     "name": "stdout",
     "output_type": "stream",
     "text": [
      "\n",
      "* \n",
      "* * \n",
      "* * * \n",
      "* * * * \n",
      "* * * * * \n",
      "* * * * \n",
      "* * * \n",
      "* * \n",
      "* \n"
     ]
    }
   ],
   "source": [
    "# Initialize n to the maximum number of stars\n",
    "n=5\n",
    "# Iterate over range(n)\n",
    "for i in range(n):\n",
    "    #Iterate over range(i)\n",
    "    for j in range(i):\n",
    "        #print * , use end to get no white spaces in between the stars\n",
    "        print ('*', end=\" \")\n",
    "    print('')\n",
    "# Iterate over range(n) to 0 hence reduce by -1\n",
    "for i in range(n,0,-1):\n",
    "    #Iterate over range(i)\n",
    "    for j in range(i):\n",
    "        #print * , use end to get no white spaces in between the stars\n",
    "        print('*', end=\" \")\n",
    "    print('')"
   ]
  },
  {
   "cell_type": "code",
   "execution_count": 20,
   "metadata": {},
   "outputs": [],
   "source": [
    "##Write a python program to print the sum of the first 10 numbers (1 to 10)\n",
    "##using while loop"
   ]
  },
  {
   "cell_type": "code",
   "execution_count": 18,
   "metadata": {
    "scrolled": true
   },
   "outputs": [
    {
     "name": "stdout",
     "output_type": "stream",
     "text": [
      "The sum of the first 10 integers:55 \n"
     ]
    }
   ],
   "source": [
    "# Initialize x to 1\n",
    "x=1\n",
    "# Initialize s to 0\n",
    "s=0\n",
    "\n",
    "# Iterate over x till 10\n",
    "while (x<=10):\n",
    "    # Add each x to s\n",
    "    s+=x\n",
    "    # Increment x by 1\n",
    "    x+=1\n",
    "\n",
    "    #when x>10, print s\n",
    "print(\"The sum of the first 10 integers:{} \".format(s))"
   ]
  },
  {
   "cell_type": "code",
   "execution_count": 19,
   "metadata": {},
   "outputs": [],
   "source": [
    "##Print the whether the number is positive or negative"
   ]
  },
  {
   "cell_type": "code",
   "execution_count": 25,
   "metadata": {},
   "outputs": [
    {
     "name": "stdout",
     "output_type": "stream",
     "text": [
      "positive number\n"
     ]
    }
   ],
   "source": [
    "#initialize any negative number, zero or positive number\n",
    "num = 15\n",
    "#check if num>0\n",
    "if (num > 0):\n",
    "    #print the number is positive\n",
    "    print(\"positive number\")\n",
    "#use elif to check number is zero\n",
    "elif (num == 0):\n",
    "    print(\"Zero\")\n",
    "#else print the number is negative\n",
    "else:\n",
    "    print(\"negative number\")"
   ]
  }
 ],
 "metadata": {
  "kernelspec": {
   "display_name": "Python 3",
   "language": "python",
   "name": "python3"
  },
  "language_info": {
   "codemirror_mode": {
    "name": "ipython",
    "version": 3
   },
   "file_extension": ".py",
   "mimetype": "text/x-python",
   "name": "python",
   "nbconvert_exporter": "python",
   "pygments_lexer": "ipython3",
   "version": "3.6.5"
  }
 },
 "nbformat": 4,
 "nbformat_minor": 2
}
